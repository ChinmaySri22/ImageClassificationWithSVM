{
 "cells": [
  {
   "cell_type": "code",
   "execution_count": 1,
   "id": "886e106e-47d2-4fc2-a5f8-1a0faa776e3a",
   "metadata": {},
   "outputs": [],
   "source": [
    "import os\n",
    "import numpy as np\n",
    "from sklearn.svm import SVC\n",
    "from sklearn.model_selection import train_test_split\n",
    "from sklearn.metrics import accuracy_score, classification_report\n",
    "from skimage.io import imread\n",
    "from skimage.transform import resize\n",
    "from skimage.feature import hog\n",
    "from skimage.color import rgb2gray\n",
    "from skimage.io import imread"
   ]
  },
  {
   "cell_type": "code",
   "execution_count": 2,
   "id": "1a1db762-a1b4-45c3-b15f-3f46c5bb7349",
   "metadata": {},
   "outputs": [],
   "source": [
    "# Load and preprocess the data\n",
    "cat_images = []\n",
    "dog_images = []\n",
    "\n",
    "# Load cat images\n",
    "cat_dir = 'cats'\n",
    "for filename in os.listdir(cat_dir):\n",
    "    if filename.startswith('cat.'):\n",
    "        img = imread(os.path.join(cat_dir, filename))\n",
    "        img = rgb2gray(img)  # Convert to grayscale\n",
    "        img = resize(img, (64, 64))  # Resize to a consistent size\n",
    "        cat_images.append(img)\n",
    "\n",
    "# Load dog images\n",
    "dog_dir = 'dogs'\n",
    "for filename in os.listdir(dog_dir):\n",
    "    if filename.startswith('dog.'):\n",
    "        img = imread(os.path.join(dog_dir, filename))\n",
    "        img = rgb2gray(img)  # Convert to grayscale\n",
    "        img = resize(img, (64, 64))  # Resize to a consistent size\n",
    "        dog_images.append(img)"
   ]
  },
  {
   "cell_type": "code",
   "execution_count": 3,
   "id": "260e6856-c24f-4c7c-abf3-d63822b0be30",
   "metadata": {},
   "outputs": [],
   "source": [
    "# Create the dataset\n",
    "X = np.array(cat_images + dog_images)\n",
    "y = np.array([0] * len(cat_images) + [1] * len(dog_images))\n",
    "\n",
    "# Extract features (Histogram of Oriented Gradients)\n",
    "features = []\n",
    "for img in X:\n",
    "    feature = hog(img, orientations=9, pixels_per_cell=(8, 8), cells_per_block=(2, 2), visualize=False)\n",
    "    features.append(feature)\n",
    "X = np.array(features)"
   ]
  },
  {
   "cell_type": "code",
   "execution_count": 4,
   "id": "f2b258b0-ac51-4812-be34-73529fb70aa3",
   "metadata": {},
   "outputs": [
    {
     "name": "stdout",
     "output_type": "stream",
     "text": [
      "Accuracy: 0.7132\n",
      "              precision    recall  f1-score   support\n",
      "\n",
      "           0       0.72      0.70      0.71      2515\n",
      "           1       0.70      0.73      0.72      2485\n",
      "\n",
      "    accuracy                           0.71      5000\n",
      "   macro avg       0.71      0.71      0.71      5000\n",
      "weighted avg       0.71      0.71      0.71      5000\n",
      "\n"
     ]
    }
   ],
   "source": [
    "# Split data into training and testing sets\n",
    "X_train, X_test, y_train, y_test = train_test_split(X, y, test_size=0.2, random_state=42)\n",
    "\n",
    "# Create and train the SVM model\n",
    "svm = SVC(kernel='linear', random_state=42)\n",
    "svm.fit(X_train, y_train)\n",
    "\n",
    "# Evaluate the model\n",
    "y_pred = svm.predict(X_test)\n",
    "print(f'Accuracy: {accuracy_score(y_test, y_pred)}')\n",
    "print(classification_report(y_test, y_pred))"
   ]
  },
  {
   "cell_type": "code",
   "execution_count": 5,
   "id": "5c013013-2f9c-428f-ac5b-49984ec76a79",
   "metadata": {},
   "outputs": [
    {
     "name": "stdout",
     "output_type": "stream",
     "text": [
      "The image is a dog.\n"
     ]
    }
   ],
   "source": [
    "# Load the trained SVM model\n",
    "svm = SVC(kernel='linear', random_state=42)\n",
    "svm.fit(X_train, y_train)  # Assuming X_train, y_train are available from the previous code\n",
    "\n",
    "# Function to preprocess and extract features from a new image\n",
    "def preprocess_and_extract_features(image_path):\n",
    "    img = imread(image_path)\n",
    "    img = rgb2gray(img)\n",
    "    img = resize(img, (64, 64))\n",
    "    feature = hog(img, orientations=9, pixels_per_cell=(8, 8), cells_per_block=(2, 2), visualize=False)\n",
    "    return np.array([feature])\n",
    "\n",
    "# Function to predict the label for a new image\n",
    "def predict_image(image_path):\n",
    "    new_features = preprocess_and_extract_features(image_path)\n",
    "    prediction = svm.predict(new_features)\n",
    "    if prediction == 0:\n",
    "        return 'The image is a cat.'\n",
    "    else:\n",
    "        return 'The image is a dog.'\n",
    "\n",
    "# Example usage\n",
    "new_image_path = '3.jpg'\n",
    "prediction = predict_image(new_image_path)\n",
    "print(prediction)"
   ]
  },
  {
   "cell_type": "code",
   "execution_count": null,
   "id": "cc09d337-ba0f-4508-9464-cef4a335df6b",
   "metadata": {},
   "outputs": [],
   "source": []
  }
 ],
 "metadata": {
  "kernelspec": {
   "display_name": "Python 3 (ipykernel)",
   "language": "python",
   "name": "python3"
  },
  "language_info": {
   "codemirror_mode": {
    "name": "ipython",
    "version": 3
   },
   "file_extension": ".py",
   "mimetype": "text/x-python",
   "name": "python",
   "nbconvert_exporter": "python",
   "pygments_lexer": "ipython3",
   "version": "3.12.2"
  }
 },
 "nbformat": 4,
 "nbformat_minor": 5
}
